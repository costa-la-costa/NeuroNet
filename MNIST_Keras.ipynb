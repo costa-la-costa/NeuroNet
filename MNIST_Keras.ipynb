{
  "nbformat": 4,
  "nbformat_minor": 0,
  "metadata": {
    "colab": {
      "name": "MNIST_Keras.ipynb",
      "version": "0.3.2",
      "provenance": [],
      "collapsed_sections": []
    },
    "kernelspec": {
      "name": "python3",
      "display_name": "Python 3"
    },
    "accelerator": "GPU"
  },
  "cells": [
    {
      "cell_type": "markdown",
      "metadata": {
        "id": "view-in-github",
        "colab_type": "text"
      },
      "source": [
        "[View in Colaboratory](https://colab.research.google.com/github/costa-la-costa/NeuroNet/blob/master/MNIST_Keras.ipynb)"
      ]
    },
    {
      "metadata": {
        "id": "7j_0Zz-vMVUX",
        "colab_type": "text"
      },
      "cell_type": "markdown",
      "source": [
        "# Распознавание рукописных цифр из набора данных MNIST на Keras\n",
        "\n",
        "https://www.asozykin.ru/courses/nnpython-lab1\n",
        "\n"
      ]
    },
    {
      "metadata": {
        "id": "A4jysutSG3p9",
        "colab_type": "code",
        "colab": {
          "base_uri": "https://localhost:8080/",
          "height": 595
        },
        "outputId": "c4cce48e-4b53-45f4-c12f-1936dfb0bb14"
      },
      "cell_type": "code",
      "source": [
        "import numpy\n",
        "from keras.datasets import mnist\n",
        "from keras.models import Sequential\n",
        "from keras.layers import Dense\n",
        "from keras.utils import np_utils\n",
        "\n",
        "# Устанавливаем seed для повторяемости результатов\n",
        "numpy.random.seed(42)\n",
        "\n",
        "# Загружаем данные\n",
        "(X_train, y_train), (X_test, y_test) = mnist.load_data()\n",
        "\n",
        "# Преобразование размерности изображений\n",
        "X_train = X_train.reshape(60000, 784)\n",
        "X_test = X_test.reshape(10000, 784)\n",
        "# Нормализация данных\n",
        "X_train = X_train.astype('float32')\n",
        "X_test = X_test.astype('float32')\n",
        "X_train /= 255\n",
        "X_test /= 255\n",
        "\n",
        "# Преобразуем метки в категории\n",
        "Y_train = np_utils.to_categorical(y_train, 10)\n",
        "Y_test = np_utils.to_categorical(y_test, 10)\n",
        "\n",
        "# Создаем последовательную модель\n",
        "model = Sequential()\n",
        "\n",
        "# Добавляем уровни сети\n",
        "model.add(Dense(800, input_dim=784, activation=\"relu\", kernel_initializer=\"normal\"))\n",
        "#model.add(Dense(1600, activation=\"relu\", kernel_initializer=\"normal\"))\n",
        "model.add(Dense(10, activation=\"softmax\", kernel_initializer=\"normal\"))\n",
        "\n",
        "# Компилируем модель\n",
        "#model.compile(loss=\"categorical_crossentropy\", optimizer=\"SGD\", metrics=[\"accuracy\"])\n",
        "model.compile(loss=\"categorical_crossentropy\", optimizer=\"ADAM\", metrics=[\"accuracy\"])\n",
        "\n",
        "print(model.summary())\n",
        "\n",
        "# Обучаем сеть\n",
        "model.fit(X_train, Y_train, batch_size=200, epochs=10, validation_split=0.2, verbose=2)\n",
        "\n",
        "# Оцениваем качество обучения сети на тестовых данных\n",
        "scores = model.evaluate(X_test, Y_test, verbose=0)\n",
        "print(\"Точность работы на тестовых данных: %.2f%%\" % (scores[1]*100))"
      ],
      "execution_count": 12,
      "outputs": [
        {
          "output_type": "stream",
          "text": [
            "_________________________________________________________________\n",
            "Layer (type)                 Output Shape              Param #   \n",
            "=================================================================\n",
            "dense_23 (Dense)             (None, 1000)              785000    \n",
            "_________________________________________________________________\n",
            "dense_24 (Dense)             (None, 10)                10010     \n",
            "=================================================================\n",
            "Total params: 795,010\n",
            "Trainable params: 795,010\n",
            "Non-trainable params: 0\n",
            "_________________________________________________________________\n",
            "None\n",
            "Train on 48000 samples, validate on 12000 samples\n",
            "Epoch 1/10\n",
            " - 2s - loss: 0.3007 - acc: 0.9122 - val_loss: 0.1549 - val_acc: 0.9553\n",
            "Epoch 2/10\n",
            " - 2s - loss: 0.1157 - acc: 0.9669 - val_loss: 0.1139 - val_acc: 0.9662\n",
            "Epoch 3/10\n",
            " - 2s - loss: 0.0739 - acc: 0.9791 - val_loss: 0.0893 - val_acc: 0.9731\n",
            "Epoch 4/10\n",
            " - 2s - loss: 0.0512 - acc: 0.9854 - val_loss: 0.0844 - val_acc: 0.9738\n",
            "Epoch 5/10\n",
            " - 2s - loss: 0.0354 - acc: 0.9904 - val_loss: 0.0798 - val_acc: 0.9748\n",
            "Epoch 6/10\n",
            " - 2s - loss: 0.0261 - acc: 0.9934 - val_loss: 0.0716 - val_acc: 0.9785\n",
            "Epoch 7/10\n",
            " - 2s - loss: 0.0182 - acc: 0.9957 - val_loss: 0.0751 - val_acc: 0.9781\n",
            "Epoch 8/10\n",
            " - 2s - loss: 0.0132 - acc: 0.9974 - val_loss: 0.0753 - val_acc: 0.9788\n",
            "Epoch 9/10\n",
            " - 2s - loss: 0.0090 - acc: 0.9985 - val_loss: 0.0712 - val_acc: 0.9789\n",
            "Epoch 10/10\n",
            " - 2s - loss: 0.0076 - acc: 0.9987 - val_loss: 0.0691 - val_acc: 0.9806\n",
            "Точность работы на тестовых данных: 98.16%\n"
          ],
          "name": "stdout"
        }
      ]
    }
  ]
}